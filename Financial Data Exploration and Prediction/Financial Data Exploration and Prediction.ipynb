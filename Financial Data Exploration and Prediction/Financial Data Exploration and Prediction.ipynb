{
 "cells": [
  {
   "cell_type": "code",
   "execution_count": 1,
   "metadata": {},
   "outputs": [],
   "source": [
    "import pandas as pd\n",
    "import numpy as np\n",
    "import sklearn\n",
    "import math\n",
    "import matplotlib.pyplot as plt\n",
    "import numpy as np\n",
    "import sklearn\n",
    "from sklearn.linear_model import LinearRegression\n",
    "from sklearn.linear_model import Ridge, RidgeCV\n",
    "from sklearn.model_selection import train_test_split\n",
    "from sklearn.pipeline import Pipeline\n",
    "from sklearn.preprocessing import StandardScaler\n",
    "from sklearn.preprocessing import PolynomialFeatures\n",
    "from sklearn.model_selection import GridSearchCV\n",
    "from sklearn.model_selection import cross_val_score\n",
    "from sklearn.metrics import mean_squared_error, make_scorer\n",
    "from statsmodels.graphics.tsaplots import plot_pacf\n",
    "import statsmodels.api as sm\n",
    "from scipy import stats\n",
    "import seaborn as sns"
   ]
  },
  {
   "cell_type": "code",
   "execution_count": 2,
   "metadata": {},
   "outputs": [],
   "source": [
    "X_raw=pd.read_csv(\"X.csv\",index_col=0)\n",
    "Y_raw=pd.read_csv(\"Y.csv\",index_col=0,names=[\"Y\"])"
   ]
  },
  {
   "cell_type": "code",
   "execution_count": 3,
   "metadata": {},
   "outputs": [
    {
     "data": {
      "text/html": [
       "<div>\n",
       "<style scoped>\n",
       "    .dataframe tbody tr th:only-of-type {\n",
       "        vertical-align: middle;\n",
       "    }\n",
       "\n",
       "    .dataframe tbody tr th {\n",
       "        vertical-align: top;\n",
       "    }\n",
       "\n",
       "    .dataframe thead th {\n",
       "        text-align: right;\n",
       "    }\n",
       "</style>\n",
       "<table border=\"1\" class=\"dataframe\">\n",
       "  <thead>\n",
       "    <tr style=\"text-align: right;\">\n",
       "      <th></th>\n",
       "      <th>0</th>\n",
       "      <th>1</th>\n",
       "      <th>2</th>\n",
       "      <th>3</th>\n",
       "      <th>4</th>\n",
       "    </tr>\n",
       "  </thead>\n",
       "  <tbody>\n",
       "    <tr>\n",
       "      <th>count</th>\n",
       "      <td>9998.000000</td>\n",
       "      <td>9997.000000</td>\n",
       "      <td>9999.000000</td>\n",
       "      <td>9999.000000</td>\n",
       "      <td>9989.000000</td>\n",
       "    </tr>\n",
       "    <tr>\n",
       "      <th>mean</th>\n",
       "      <td>1.019668</td>\n",
       "      <td>0.049666</td>\n",
       "      <td>0.105662</td>\n",
       "      <td>0.336831</td>\n",
       "      <td>1.039732</td>\n",
       "    </tr>\n",
       "    <tr>\n",
       "      <th>std</th>\n",
       "      <td>100.046328</td>\n",
       "      <td>5.460705</td>\n",
       "      <td>10.024619</td>\n",
       "      <td>59.783231</td>\n",
       "      <td>2.130112</td>\n",
       "    </tr>\n",
       "    <tr>\n",
       "      <th>min</th>\n",
       "      <td>-7.654205</td>\n",
       "      <td>-19.706080</td>\n",
       "      <td>-3.726699</td>\n",
       "      <td>-3001.334527</td>\n",
       "      <td>-7.265781</td>\n",
       "    </tr>\n",
       "    <tr>\n",
       "      <th>25%</th>\n",
       "      <td>-1.303399</td>\n",
       "      <td>-3.634017</td>\n",
       "      <td>-0.597181</td>\n",
       "      <td>-3.908743</td>\n",
       "      <td>-0.403526</td>\n",
       "    </tr>\n",
       "    <tr>\n",
       "      <th>50%</th>\n",
       "      <td>0.012223</td>\n",
       "      <td>0.047400</td>\n",
       "      <td>0.008015</td>\n",
       "      <td>0.050861</td>\n",
       "      <td>1.031119</td>\n",
       "    </tr>\n",
       "    <tr>\n",
       "      <th>75%</th>\n",
       "      <td>1.359710</td>\n",
       "      <td>3.699935</td>\n",
       "      <td>0.613412</td>\n",
       "      <td>4.135978</td>\n",
       "      <td>2.475406</td>\n",
       "    </tr>\n",
       "    <tr>\n",
       "      <th>max</th>\n",
       "      <td>10001.660383</td>\n",
       "      <td>19.256933</td>\n",
       "      <td>998.329754</td>\n",
       "      <td>5134.656374</td>\n",
       "      <td>9.896021</td>\n",
       "    </tr>\n",
       "  </tbody>\n",
       "</table>\n",
       "</div>"
      ],
      "text/plain": [
       "                  0            1            2            3            4\n",
       "count   9998.000000  9997.000000  9999.000000  9999.000000  9989.000000\n",
       "mean       1.019668     0.049666     0.105662     0.336831     1.039732\n",
       "std      100.046328     5.460705    10.024619    59.783231     2.130112\n",
       "min       -7.654205   -19.706080    -3.726699 -3001.334527    -7.265781\n",
       "25%       -1.303399    -3.634017    -0.597181    -3.908743    -0.403526\n",
       "50%        0.012223     0.047400     0.008015     0.050861     1.031119\n",
       "75%        1.359710     3.699935     0.613412     4.135978     2.475406\n",
       "max    10001.660383    19.256933   998.329754  5134.656374     9.896021"
      ]
     },
     "execution_count": 3,
     "metadata": {},
     "output_type": "execute_result"
    }
   ],
   "source": [
    "X_raw.describe()"
   ]
  },
  {
   "cell_type": "markdown",
   "metadata": {},
   "source": [
    "We can see that counts don't match, so there are some NAN's that we have to deal with. Since the total number of NAN's is really small (10-15 out of 1000 datapoints), in my opinion the best way is to disregard rows that have NAN's."
   ]
  },
  {
   "cell_type": "markdown",
   "metadata": {},
   "source": [
    "We also see that the standard deviations of features vary a lot (from 100 for feature 0 to 2 for 4), so before applying OLS (or other methods) it is probably better to preprocess (rescale) features."
   ]
  },
  {
   "cell_type": "markdown",
   "metadata": {},
   "source": [
    "Finally, we see that in certain features there are maximoms and minimums way outside of expected range. In practice I would spend some time figuring out if this data is correct (maybe there was an error recording data). If it is actually right, we have to analyze those outliers in more detail. Here I will analyze it a bit further and probably drop them. We sholud be really careful about using this model if those outliers actually represent valid data points."
   ]
  },
  {
   "cell_type": "code",
   "execution_count": 4,
   "metadata": {},
   "outputs": [
    {
     "data": {
      "text/html": [
       "<div>\n",
       "<style scoped>\n",
       "    .dataframe tbody tr th:only-of-type {\n",
       "        vertical-align: middle;\n",
       "    }\n",
       "\n",
       "    .dataframe tbody tr th {\n",
       "        vertical-align: top;\n",
       "    }\n",
       "\n",
       "    .dataframe thead th {\n",
       "        text-align: right;\n",
       "    }\n",
       "</style>\n",
       "<table border=\"1\" class=\"dataframe\">\n",
       "  <thead>\n",
       "    <tr style=\"text-align: right;\">\n",
       "      <th></th>\n",
       "      <th>Y</th>\n",
       "    </tr>\n",
       "  </thead>\n",
       "  <tbody>\n",
       "    <tr>\n",
       "      <th>count</th>\n",
       "      <td>10000.000000</td>\n",
       "    </tr>\n",
       "    <tr>\n",
       "      <th>mean</th>\n",
       "      <td>1.183616</td>\n",
       "    </tr>\n",
       "    <tr>\n",
       "      <th>std</th>\n",
       "      <td>54.743893</td>\n",
       "    </tr>\n",
       "    <tr>\n",
       "      <th>min</th>\n",
       "      <td>-712.340073</td>\n",
       "    </tr>\n",
       "    <tr>\n",
       "      <th>25%</th>\n",
       "      <td>-17.473542</td>\n",
       "    </tr>\n",
       "    <tr>\n",
       "      <th>50%</th>\n",
       "      <td>1.943772</td>\n",
       "    </tr>\n",
       "    <tr>\n",
       "      <th>75%</th>\n",
       "      <td>21.275091</td>\n",
       "    </tr>\n",
       "    <tr>\n",
       "      <th>max</th>\n",
       "      <td>681.761316</td>\n",
       "    </tr>\n",
       "  </tbody>\n",
       "</table>\n",
       "</div>"
      ],
      "text/plain": [
       "                  Y\n",
       "count  10000.000000\n",
       "mean       1.183616\n",
       "std       54.743893\n",
       "min     -712.340073\n",
       "25%      -17.473542\n",
       "50%        1.943772\n",
       "75%       21.275091\n",
       "max      681.761316"
      ]
     },
     "execution_count": 4,
     "metadata": {},
     "output_type": "execute_result"
    }
   ],
   "source": [
    "Y_raw.describe()"
   ]
  },
  {
   "cell_type": "code",
   "execution_count": 47,
   "metadata": {},
   "outputs": [],
   "source": [
    "df=pd.concat([X_raw,Y_raw],axis=1)\n",
    "df.dropna(inplace=True)"
   ]
  },
  {
   "cell_type": "code",
   "execution_count": 6,
   "metadata": {},
   "outputs": [
    {
     "data": {
      "text/plain": [
       "<AxesSubplot:>"
      ]
     },
     "execution_count": 6,
     "metadata": {},
     "output_type": "execute_result"
    },
    {
     "data": {
      "image/png": "[encoded data removed]",
      "text/plain": [
       "<Figure size 432x288 with 1 Axes>"
      ]
     },
     "metadata": {
      "needs_background": "light"
     },
     "output_type": "display_data"
    }
   ],
   "source": [
    "df['Y'].plot()"
   ]
  },
  {
   "cell_type": "markdown",
   "metadata": {},
   "source": [
    "We can see that maybe there is some autocorrelation for Y? (Leave it for later analysis)"
   ]
  },
  {
   "cell_type": "code",
   "execution_count": 7,
   "metadata": {},
   "outputs": [
    {
     "data": {
      "text/plain": [
       "Text(0.5, 1.0, 'Y')"
      ]
     },
     "execution_count": 7,
     "metadata": {},
     "output_type": "execute_result"
    },
    {
     "data": {
      "image/png": "[encoded data removed]",
      "text/plain": [
       "<Figure size 432x288 with 6 Axes>"
      ]
     },
     "metadata": {
      "needs_background": "light"
     },
     "output_type": "display_data"
    }
   ],
   "source": [
    "\n",
    "fig, axs=plt.subplots(3,2)\n",
    "axs[0,0].plot(df['0'])\n",
    "axs[0,0].set_title('X_0')\n",
    "axs[0,1].plot(df['1'])\n",
    "axs[0,1].set_title('X_1')\n",
    "axs[1,0].plot(df['2'])\n",
    "axs[1,0].set_title('X_2')\n",
    "axs[1,1].plot(df['3'])\n",
    "axs[1,1].set_title('X_3')\n",
    "axs[2,0].plot(df['4'])\n",
    "axs[2,0].set_title('X_4')\n",
    "axs[2,1].plot(df['Y'])\n",
    "axs[2,1].set_title('Y')"
   ]
  },
  {
   "cell_type": "markdown",
   "metadata": {},
   "source": [
    "We see that there are 3 outliers that have very different characteristics from other observations. As I mentioned before, in practice we should analyze why those observations happen and probably deal with them separately. Here I will just drop those observations. We should reiterate that if those were valid observation, our model wouldn't work very well in this type of scenarios."
   ]
  },
  {
   "cell_type": "code",
   "execution_count": 8,
   "metadata": {},
   "outputs": [
    {
     "data": {
      "text/plain": [
       "{2315, 7321, 7853}"
      ]
     },
     "execution_count": 8,
     "metadata": {},
     "output_type": "execute_result"
    }
   ],
   "source": [
    "outliers=set(())\n",
    "outliers.add(df['0'].idxmax())\n",
    "outliers.add(df['3'].idxmax())\n",
    "outliers.add(df['3'].idxmin())\n",
    "outliers"
   ]
  },
  {
   "cell_type": "code",
   "execution_count": 9,
   "metadata": {},
   "outputs": [],
   "source": [
    "df.drop(outliers,inplace=True)"
   ]
  },
  {
   "cell_type": "code",
   "execution_count": 10,
   "metadata": {},
   "outputs": [
    {
     "data": {
      "text/plain": [
       "Text(0.5, 1.0, 'Y')"
      ]
     },
     "execution_count": 10,
     "metadata": {},
     "output_type": "execute_result"
    },
    {
     "data": {
      "image/png": "[encoded data removed]",
      "text/plain": [
       "<Figure size 432x288 with 6 Axes>"
      ]
     },
     "metadata": {
      "needs_background": "light"
     },
     "output_type": "display_data"
    }
   ],
   "source": [
    "fig, axs=plt.subplots(3,2)\n",
    "axs[0,0].plot(df['0'])\n",
    "axs[0,0].set_title('X_0')\n",
    "axs[0,1].plot(df['1'])\n",
    "axs[0,1].set_title('X_1')\n",
    "axs[1,0].plot(df['2'])\n",
    "axs[1,0].set_title('X_2')\n",
    "axs[1,1].plot(df['3'])\n",
    "axs[1,1].set_title('X_3')\n",
    "axs[2,0].plot(df['4'])\n",
    "axs[2,0].set_title('X_4')\n",
    "axs[2,1].plot(df['Y'])\n",
    "axs[2,1].set_title('Y')"
   ]
  },
  {
   "cell_type": "markdown",
   "metadata": {},
   "source": [
    "We see that we get much more reasonable looking graphs"
   ]
  },
  {
   "cell_type": "code",
   "execution_count": 11,
   "metadata": {},
   "outputs": [],
   "source": [
    "X_train, X_test, Y_train, Y_test= train_test_split(df.loc[:,[\"0\",\"1\",\"2\",\"3\",\"4\"]],df.loc[:,\"Y\"], random_state=4,test_size=0.2)"
   ]
  },
  {
   "cell_type": "code",
   "execution_count": 12,
   "metadata": {},
   "outputs": [],
   "source": [
    "pipe=Pipeline([\n",
    "    ('scaler', StandardScaler()),\n",
    "    #('poly', PolynomialFeatures(degree=2)), ###tried adding quadratic terms, but didn't help much.\n",
    "    ('model', LinearRegression())\n",
    "])"
   ]
  },
  {
   "cell_type": "markdown",
   "metadata": {},
   "source": [
    "pipeline allows us a convinient way to preprocess (rescale) X's, while not looking at the test data"
   ]
  },
  {
   "cell_type": "code",
   "execution_count": 13,
   "metadata": {},
   "outputs": [
    {
     "data": {
      "text/plain": [
       "array([  3.51107364,   7.30536284,  -1.38572714, -10.02718698,\n",
       "         0.36148363])"
      ]
     },
     "execution_count": 13,
     "metadata": {},
     "output_type": "execute_result"
    }
   ],
   "source": [
    "Y_model=pipe.fit(X_train,Y_train)\n",
    "Y_model.named_steps['model'].coef_"
   ]
  },
  {
   "cell_type": "code",
   "execution_count": 14,
   "metadata": {},
   "outputs": [
    {
     "data": {
      "text/html": [
       "<div>\n",
       "<style scoped>\n",
       "    .dataframe tbody tr th:only-of-type {\n",
       "        vertical-align: middle;\n",
       "    }\n",
       "\n",
       "    .dataframe tbody tr th {\n",
       "        vertical-align: top;\n",
       "    }\n",
       "\n",
       "    .dataframe thead th {\n",
       "        text-align: right;\n",
       "    }\n",
       "</style>\n",
       "<table border=\"1\" class=\"dataframe\">\n",
       "  <thead>\n",
       "    <tr style=\"text-align: right;\">\n",
       "      <th></th>\n",
       "      <th>0</th>\n",
       "      <th>1</th>\n",
       "      <th>2</th>\n",
       "      <th>3</th>\n",
       "      <th>4</th>\n",
       "      <th>Y</th>\n",
       "    </tr>\n",
       "  </thead>\n",
       "  <tbody>\n",
       "    <tr>\n",
       "      <th>0</th>\n",
       "      <td>1.000000</td>\n",
       "      <td>-0.299814</td>\n",
       "      <td>0.191888</td>\n",
       "      <td>0.294073</td>\n",
       "      <td>-0.181224</td>\n",
       "      <td>-0.036132</td>\n",
       "    </tr>\n",
       "    <tr>\n",
       "      <th>1</th>\n",
       "      <td>-0.299814</td>\n",
       "      <td>1.000000</td>\n",
       "      <td>0.402702</td>\n",
       "      <td>0.195061</td>\n",
       "      <td>0.887299</td>\n",
       "      <td>0.074861</td>\n",
       "    </tr>\n",
       "    <tr>\n",
       "      <th>2</th>\n",
       "      <td>0.191888</td>\n",
       "      <td>0.402702</td>\n",
       "      <td>1.000000</td>\n",
       "      <td>0.285080</td>\n",
       "      <td>0.602030</td>\n",
       "      <td>-0.007580</td>\n",
       "    </tr>\n",
       "    <tr>\n",
       "      <th>3</th>\n",
       "      <td>0.294073</td>\n",
       "      <td>0.195061</td>\n",
       "      <td>0.285080</td>\n",
       "      <td>1.000000</td>\n",
       "      <td>0.230967</td>\n",
       "      <td>-0.145337</td>\n",
       "    </tr>\n",
       "    <tr>\n",
       "      <th>4</th>\n",
       "      <td>-0.181224</td>\n",
       "      <td>0.887299</td>\n",
       "      <td>0.602030</td>\n",
       "      <td>0.230967</td>\n",
       "      <td>1.000000</td>\n",
       "      <td>0.056375</td>\n",
       "    </tr>\n",
       "    <tr>\n",
       "      <th>Y</th>\n",
       "      <td>-0.036132</td>\n",
       "      <td>0.074861</td>\n",
       "      <td>-0.007580</td>\n",
       "      <td>-0.145337</td>\n",
       "      <td>0.056375</td>\n",
       "      <td>1.000000</td>\n",
       "    </tr>\n",
       "  </tbody>\n",
       "</table>\n",
       "</div>"
      ],
      "text/plain": [
       "          0         1         2         3         4         Y\n",
       "0  1.000000 -0.299814  0.191888  0.294073 -0.181224 -0.036132\n",
       "1 -0.299814  1.000000  0.402702  0.195061  0.887299  0.074861\n",
       "2  0.191888  0.402702  1.000000  0.285080  0.602030 -0.007580\n",
       "3  0.294073  0.195061  0.285080  1.000000  0.230967 -0.145337\n",
       "4 -0.181224  0.887299  0.602030  0.230967  1.000000  0.056375\n",
       "Y -0.036132  0.074861 -0.007580 -0.145337  0.056375  1.000000"
      ]
     },
     "execution_count": 14,
     "metadata": {},
     "output_type": "execute_result"
    }
   ],
   "source": [
    "df_train=pd.concat([X_train,Y_train], axis=1)\n",
    "df_train.corr()"
   ]
  },
  {
   "cell_type": "markdown",
   "metadata": {},
   "source": [
    "After dropping the outliers we see that we get some (even though still small) correlation of Y with X's)"
   ]
  },
  {
   "cell_type": "code",
   "execution_count": 15,
   "metadata": {},
   "outputs": [
    {
     "data": {
      "text/plain": [
       "0.03518950509068497"
      ]
     },
     "execution_count": 15,
     "metadata": {},
     "output_type": "execute_result"
    }
   ],
   "source": [
    "Y_model.score(X_train,Y_train)"
   ]
  },
  {
   "cell_type": "markdown",
   "metadata": {},
   "source": [
    "We see that even on the train data, the OLS model is really bad (but a bit better than a constant estimate) (r^2 score of about 0.04)"
   ]
  },
  {
   "cell_type": "code",
   "execution_count": 16,
   "metadata": {},
   "outputs": [
    {
     "data": {
      "text/plain": [
       "<matplotlib.collections.PathCollection at 0x1e6ad52e7f0>"
      ]
     },
     "execution_count": 16,
     "metadata": {},
     "output_type": "execute_result"
    },
    {
     "data": {
      "image/png": "[encoded data removed]",
      "text/plain": [
       "<Figure size 432x288 with 1 Axes>"
      ]
     },
     "metadata": {
      "needs_background": "light"
     },
     "output_type": "display_data"
    }
   ],
   "source": [
    "plt.scatter(Y_train.index,Y_train-Y_model.predict(X_train),s=1)"
   ]
  },
  {
   "cell_type": "code",
   "execution_count": 17,
   "metadata": {},
   "outputs": [
    {
     "data": {
      "text/plain": [
       "count    7.986000e+03\n",
       "mean    -3.532250e-16\n",
       "std      5.326791e+01\n",
       "min     -6.834435e+02\n",
       "25%     -1.783719e+01\n",
       "50%      9.113884e-01\n",
       "75%      1.909408e+01\n",
       "max      6.497447e+02\n",
       "Name: Y, dtype: float64"
      ]
     },
     "execution_count": 17,
     "metadata": {},
     "output_type": "execute_result"
    }
   ],
   "source": [
    "(Y_train-Y_model.predict(X_train)).describe()"
   ]
  },
  {
   "cell_type": "markdown",
   "metadata": {},
   "source": [
    "We see that the model is unbiased (on training data), but has considerable variance. This is also reaffirmed by the test data."
   ]
  },
  {
   "cell_type": "code",
   "execution_count": 18,
   "metadata": {},
   "outputs": [
    {
     "data": {
      "text/plain": [
       "0.05341639451636926"
      ]
     },
     "execution_count": 18,
     "metadata": {},
     "output_type": "execute_result"
    }
   ],
   "source": [
    "Y_model.score(X_test,Y_test)"
   ]
  },
  {
   "cell_type": "code",
   "execution_count": 19,
   "metadata": {},
   "outputs": [
    {
     "data": {
      "text/plain": [
       "count    1997.000000\n",
       "mean        0.572400\n",
       "std        55.205566\n",
       "min      -370.369695\n",
       "25%       -17.302575\n",
       "50%         0.190840\n",
       "75%        19.036982\n",
       "max       498.413818\n",
       "Name: Y, dtype: float64"
      ]
     },
     "execution_count": 19,
     "metadata": {},
     "output_type": "execute_result"
    }
   ],
   "source": [
    "(Y_test-Y_model.predict(X_test)).describe()"
   ]
  },
  {
   "cell_type": "markdown",
   "metadata": {},
   "source": [
    "I tried applying some variations of OLS (ridge with cv), but the result wasn't much better. Let's use the hint and see if the sqared error is spherical. OLS is not guaranteed to provide a best unbiased classification if the error is not spherical"
   ]
  },
  {
   "cell_type": "code",
   "execution_count": 20,
   "metadata": {},
   "outputs": [
    {
     "data": {
      "text/plain": [
       "3728       2.124426\n",
       "230        0.399528\n",
       "2661     841.566285\n",
       "486     1757.565929\n",
       "1620     291.049716\n",
       "           ...     \n",
       "458       78.786742\n",
       "6032     667.422608\n",
       "711      131.195855\n",
       "8383    3980.101927\n",
       "1148    1116.916031\n",
       "Name: Squared error, Length: 7986, dtype: float64"
      ]
     },
     "execution_count": 20,
     "metadata": {},
     "output_type": "execute_result"
    }
   ],
   "source": [
    "Er_sq=(Y_train-Y_model.predict(X_train))**2\n",
    "Er_sq.rename('Squared error',inplace=True)"
   ]
  },
  {
   "cell_type": "code",
   "execution_count": 21,
   "metadata": {},
   "outputs": [],
   "source": [
    "pipe_er=Pipeline([\n",
    "    ('scaler', StandardScaler()),\n",
    "    #('poly', PolynomialFeatures(degree=2)), ###tried adding quadratic terms, but didn't help much.\n",
    "    ('model', LinearRegression())\n",
    "])\n",
    "Er_model=pipe_er.fit(X_train,Er_sq)"
   ]
  },
  {
   "cell_type": "code",
   "execution_count": 22,
   "metadata": {},
   "outputs": [
    {
     "data": {
      "text/plain": [
       "array([  13.2826096 ,  496.43916632, -185.73625754,  789.46962472,\n",
       "       -368.36591611])"
      ]
     },
     "execution_count": 22,
     "metadata": {},
     "output_type": "execute_result"
    }
   ],
   "source": [
    "Er_model.named_steps['model'].coef_"
   ]
  },
  {
   "cell_type": "markdown",
   "metadata": {},
   "source": [
    "Some coefficients are really big, so we should use a shrinkage method)"
   ]
  },
  {
   "cell_type": "code",
   "execution_count": 23,
   "metadata": {},
   "outputs": [
    {
     "data": {
      "text/plain": [
       "0.004537157174403728"
      ]
     },
     "execution_count": 23,
     "metadata": {},
     "output_type": "execute_result"
    }
   ],
   "source": [
    "Er_model.score(X_train,Er_sq)"
   ]
  },
  {
   "cell_type": "markdown",
   "metadata": {},
   "source": [
    "We see that linear model for Error squared doesn't really give us much"
   ]
  },
  {
   "cell_type": "code",
   "execution_count": 24,
   "metadata": {},
   "outputs": [
    {
     "data": {
      "text/html": [
       "<div>\n",
       "<style scoped>\n",
       "    .dataframe tbody tr th:only-of-type {\n",
       "        vertical-align: middle;\n",
       "    }\n",
       "\n",
       "    .dataframe tbody tr th {\n",
       "        vertical-align: top;\n",
       "    }\n",
       "\n",
       "    .dataframe thead th {\n",
       "        text-align: right;\n",
       "    }\n",
       "</style>\n",
       "<table border=\"1\" class=\"dataframe\">\n",
       "  <thead>\n",
       "    <tr style=\"text-align: right;\">\n",
       "      <th></th>\n",
       "      <th>0</th>\n",
       "      <th>1</th>\n",
       "      <th>2</th>\n",
       "      <th>3</th>\n",
       "      <th>4</th>\n",
       "      <th>Y</th>\n",
       "      <th>Squared error</th>\n",
       "    </tr>\n",
       "  </thead>\n",
       "  <tbody>\n",
       "    <tr>\n",
       "      <th>0</th>\n",
       "      <td>1.000000</td>\n",
       "      <td>-0.299814</td>\n",
       "      <td>0.191888</td>\n",
       "      <td>0.294073</td>\n",
       "      <td>-0.181224</td>\n",
       "      <td>-0.036132</td>\n",
       "      <td>0.010576</td>\n",
       "    </tr>\n",
       "    <tr>\n",
       "      <th>1</th>\n",
       "      <td>-0.299814</td>\n",
       "      <td>1.000000</td>\n",
       "      <td>0.402702</td>\n",
       "      <td>0.195061</td>\n",
       "      <td>0.887299</td>\n",
       "      <td>0.074861</td>\n",
       "      <td>0.020272</td>\n",
       "    </tr>\n",
       "    <tr>\n",
       "      <th>2</th>\n",
       "      <td>0.191888</td>\n",
       "      <td>0.402702</td>\n",
       "      <td>1.000000</td>\n",
       "      <td>0.285080</td>\n",
       "      <td>0.602030</td>\n",
       "      <td>-0.007580</td>\n",
       "      <td>0.001658</td>\n",
       "    </tr>\n",
       "    <tr>\n",
       "      <th>3</th>\n",
       "      <td>0.294073</td>\n",
       "      <td>0.195061</td>\n",
       "      <td>0.285080</td>\n",
       "      <td>1.000000</td>\n",
       "      <td>0.230967</td>\n",
       "      <td>-0.145337</td>\n",
       "      <td>0.062286</td>\n",
       "    </tr>\n",
       "    <tr>\n",
       "      <th>4</th>\n",
       "      <td>-0.181224</td>\n",
       "      <td>0.887299</td>\n",
       "      <td>0.602030</td>\n",
       "      <td>0.230967</td>\n",
       "      <td>1.000000</td>\n",
       "      <td>0.056375</td>\n",
       "      <td>0.011613</td>\n",
       "    </tr>\n",
       "    <tr>\n",
       "      <th>Y</th>\n",
       "      <td>-0.036132</td>\n",
       "      <td>0.074861</td>\n",
       "      <td>-0.007580</td>\n",
       "      <td>-0.145337</td>\n",
       "      <td>0.056375</td>\n",
       "      <td>1.000000</td>\n",
       "      <td>-0.064868</td>\n",
       "    </tr>\n",
       "    <tr>\n",
       "      <th>Squared error</th>\n",
       "      <td>0.010576</td>\n",
       "      <td>0.020272</td>\n",
       "      <td>0.001658</td>\n",
       "      <td>0.062286</td>\n",
       "      <td>0.011613</td>\n",
       "      <td>-0.064868</td>\n",
       "      <td>1.000000</td>\n",
       "    </tr>\n",
       "  </tbody>\n",
       "</table>\n",
       "</div>"
      ],
      "text/plain": [
       "                      0         1         2         3         4         Y  \\\n",
       "0              1.000000 -0.299814  0.191888  0.294073 -0.181224 -0.036132   \n",
       "1             -0.299814  1.000000  0.402702  0.195061  0.887299  0.074861   \n",
       "2              0.191888  0.402702  1.000000  0.285080  0.602030 -0.007580   \n",
       "3              0.294073  0.195061  0.285080  1.000000  0.230967 -0.145337   \n",
       "4             -0.181224  0.887299  0.602030  0.230967  1.000000  0.056375   \n",
       "Y             -0.036132  0.074861 -0.007580 -0.145337  0.056375  1.000000   \n",
       "Squared error  0.010576  0.020272  0.001658  0.062286  0.011613 -0.064868   \n",
       "\n",
       "               Squared error  \n",
       "0                   0.010576  \n",
       "1                   0.020272  \n",
       "2                   0.001658  \n",
       "3                   0.062286  \n",
       "4                   0.011613  \n",
       "Y                  -0.064868  \n",
       "Squared error       1.000000  "
      ]
     },
     "execution_count": 24,
     "metadata": {},
     "output_type": "execute_result"
    }
   ],
   "source": [
    "pd.concat([df_train,Er_sq],axis=1).corr()"
   ]
  },
  {
   "cell_type": "markdown",
   "metadata": {},
   "source": [
    "We see that X_3 is strongly correlated with the squared error."
   ]
  },
  {
   "cell_type": "code",
   "execution_count": 25,
   "metadata": {},
   "outputs": [
    {
     "data": {
      "text/plain": [
       "Text(0, 0.5, 'Error squared')"
      ]
     },
     "execution_count": 25,
     "metadata": {},
     "output_type": "execute_result"
    },
    {
     "data": {
      "image/png": "[encoded data removed]",
      "text/plain": [
       "<Figure size 432x288 with 1 Axes>"
      ]
     },
     "metadata": {
      "needs_background": "light"
     },
     "output_type": "display_data"
    }
   ],
   "source": [
    "X_train_3=df_train.loc[:,'3']\n",
    "plt.scatter(X_train_3,Er_sq, s=1)\n",
    "plt.xlabel(\"X_3\")\n",
    "plt.ylabel(\"Error squared\")"
   ]
  },
  {
   "cell_type": "markdown",
   "metadata": {},
   "source": [
    "We see indeed from the graph that there is a strong correlation between X_3 and Squared errors. We also see that it is not really linear (that's why the regression above of Sq_er on X didn't provide a good model) and looks more like exponential or quadratic. Let's try using a linear regression of Error_squared on X_3, X_3^2"
   ]
  },
  {
   "cell_type": "code",
   "execution_count": 26,
   "metadata": {},
   "outputs": [],
   "source": [
    "pipe_sq_3=Pipeline([\n",
    "    ('scaler', StandardScaler()),\n",
    "    ('poly', PolynomialFeatures(degree=2)),\n",
    "    ('model', LinearRegression())\n",
    "])"
   ]
  },
  {
   "cell_type": "code",
   "execution_count": 27,
   "metadata": {},
   "outputs": [
    {
     "data": {
      "text/plain": [
       "array([   0.        ,  617.09892362, 4027.71072923])"
      ]
     },
     "execution_count": 27,
     "metadata": {},
     "output_type": "execute_result"
    }
   ],
   "source": [
    "X_train_3.values.reshape(-1, 1)\n",
    "Er_square_model_3=pipe_sq_3.fit(X_train_3.values.reshape(-1, 1),Er_sq)\n",
    "Er_square_model_3.named_steps['model'].coef_"
   ]
  },
  {
   "cell_type": "code",
   "execution_count": 28,
   "metadata": {},
   "outputs": [
    {
     "data": {
      "text/plain": [
       "0.22902776689189352"
      ]
     },
     "execution_count": 28,
     "metadata": {},
     "output_type": "execute_result"
    }
   ],
   "source": [
    "Er_square_model_3.score(X_train_3.values.reshape(-1, 1),Er_sq)"
   ]
  },
  {
   "cell_type": "markdown",
   "metadata": {},
   "source": [
    "We see that this model is somewhat descriptive (r^2 score of about 0.25 on train set)"
   ]
  },
  {
   "cell_type": "code",
   "execution_count": 29,
   "metadata": {},
   "outputs": [
    {
     "data": {
      "text/plain": [
       "Text(0, 0.5, 'Error squared')"
      ]
     },
     "execution_count": 29,
     "metadata": {},
     "output_type": "execute_result"
    },
    {
     "data": {
      "image/png": "[encoded data removed]",
      "text/plain": [
       "<Figure size 432x288 with 1 Axes>"
      ]
     },
     "metadata": {
      "needs_background": "light"
     },
     "output_type": "display_data"
    }
   ],
   "source": [
    "x_3_ord, y_ord=zip(*sorted(zip(X_train_3,Er_square_model_3.predict(X_train_3.values.reshape(-1, 1)))))\n",
    "plt.plot(x_3_ord, y_ord, 'r')\n",
    "plt.scatter(X_train_3,Er_sq, s=1)\n",
    "plt.xlabel(\"X_3\")\n",
    "plt.ylabel(\"Error squared\")"
   ]
  },
  {
   "cell_type": "markdown",
   "metadata": {},
   "source": [
    "Just making sure that it actually works"
   ]
  },
  {
   "cell_type": "markdown",
   "metadata": {},
   "source": [
    "Now we can at least use weighted OLS with the weigth we get from this last model for error squared."
   ]
  },
  {
   "cell_type": "markdown",
   "metadata": {},
   "source": [
    "Let's try to see if we can also predict the sign of the error based on the data"
   ]
  },
  {
   "cell_type": "code",
   "execution_count": 30,
   "metadata": {},
   "outputs": [
    {
     "data": {
      "text/html": [
       "<div>\n",
       "<style scoped>\n",
       "    .dataframe tbody tr th:only-of-type {\n",
       "        vertical-align: middle;\n",
       "    }\n",
       "\n",
       "    .dataframe tbody tr th {\n",
       "        vertical-align: top;\n",
       "    }\n",
       "\n",
       "    .dataframe thead th {\n",
       "        text-align: right;\n",
       "    }\n",
       "</style>\n",
       "<table border=\"1\" class=\"dataframe\">\n",
       "  <thead>\n",
       "    <tr style=\"text-align: right;\">\n",
       "      <th></th>\n",
       "      <th>0</th>\n",
       "      <th>1</th>\n",
       "      <th>2</th>\n",
       "      <th>3</th>\n",
       "      <th>4</th>\n",
       "      <th>Y</th>\n",
       "      <th>Squared error</th>\n",
       "      <th>error sign</th>\n",
       "    </tr>\n",
       "  </thead>\n",
       "  <tbody>\n",
       "    <tr>\n",
       "      <th>0</th>\n",
       "      <td>1.000000</td>\n",
       "      <td>-0.299814</td>\n",
       "      <td>0.191888</td>\n",
       "      <td>0.294073</td>\n",
       "      <td>-0.181224</td>\n",
       "      <td>-0.036132</td>\n",
       "      <td>0.010576</td>\n",
       "      <td>0.009461</td>\n",
       "    </tr>\n",
       "    <tr>\n",
       "      <th>1</th>\n",
       "      <td>-0.299814</td>\n",
       "      <td>1.000000</td>\n",
       "      <td>0.402702</td>\n",
       "      <td>0.195061</td>\n",
       "      <td>0.887299</td>\n",
       "      <td>0.074861</td>\n",
       "      <td>0.020272</td>\n",
       "      <td>-0.009973</td>\n",
       "    </tr>\n",
       "    <tr>\n",
       "      <th>2</th>\n",
       "      <td>0.191888</td>\n",
       "      <td>0.402702</td>\n",
       "      <td>1.000000</td>\n",
       "      <td>0.285080</td>\n",
       "      <td>0.602030</td>\n",
       "      <td>-0.007580</td>\n",
       "      <td>0.001658</td>\n",
       "      <td>0.021616</td>\n",
       "    </tr>\n",
       "    <tr>\n",
       "      <th>3</th>\n",
       "      <td>0.294073</td>\n",
       "      <td>0.195061</td>\n",
       "      <td>0.285080</td>\n",
       "      <td>1.000000</td>\n",
       "      <td>0.230967</td>\n",
       "      <td>-0.145337</td>\n",
       "      <td>0.062286</td>\n",
       "      <td>0.005235</td>\n",
       "    </tr>\n",
       "    <tr>\n",
       "      <th>4</th>\n",
       "      <td>-0.181224</td>\n",
       "      <td>0.887299</td>\n",
       "      <td>0.602030</td>\n",
       "      <td>0.230967</td>\n",
       "      <td>1.000000</td>\n",
       "      <td>0.056375</td>\n",
       "      <td>0.011613</td>\n",
       "      <td>-0.001976</td>\n",
       "    </tr>\n",
       "    <tr>\n",
       "      <th>Y</th>\n",
       "      <td>-0.036132</td>\n",
       "      <td>0.074861</td>\n",
       "      <td>-0.007580</td>\n",
       "      <td>-0.145337</td>\n",
       "      <td>0.056375</td>\n",
       "      <td>1.000000</td>\n",
       "      <td>-0.064868</td>\n",
       "      <td>0.591600</td>\n",
       "    </tr>\n",
       "    <tr>\n",
       "      <th>Squared error</th>\n",
       "      <td>0.010576</td>\n",
       "      <td>0.020272</td>\n",
       "      <td>0.001658</td>\n",
       "      <td>0.062286</td>\n",
       "      <td>0.011613</td>\n",
       "      <td>-0.064868</td>\n",
       "      <td>1.000000</td>\n",
       "      <td>-0.015840</td>\n",
       "    </tr>\n",
       "    <tr>\n",
       "      <th>error sign</th>\n",
       "      <td>0.009461</td>\n",
       "      <td>-0.009973</td>\n",
       "      <td>0.021616</td>\n",
       "      <td>0.005235</td>\n",
       "      <td>-0.001976</td>\n",
       "      <td>0.591600</td>\n",
       "      <td>-0.015840</td>\n",
       "      <td>1.000000</td>\n",
       "    </tr>\n",
       "  </tbody>\n",
       "</table>\n",
       "</div>"
      ],
      "text/plain": [
       "                      0         1         2         3         4         Y  \\\n",
       "0              1.000000 -0.299814  0.191888  0.294073 -0.181224 -0.036132   \n",
       "1             -0.299814  1.000000  0.402702  0.195061  0.887299  0.074861   \n",
       "2              0.191888  0.402702  1.000000  0.285080  0.602030 -0.007580   \n",
       "3              0.294073  0.195061  0.285080  1.000000  0.230967 -0.145337   \n",
       "4             -0.181224  0.887299  0.602030  0.230967  1.000000  0.056375   \n",
       "Y             -0.036132  0.074861 -0.007580 -0.145337  0.056375  1.000000   \n",
       "Squared error  0.010576  0.020272  0.001658  0.062286  0.011613 -0.064868   \n",
       "error sign     0.009461 -0.009973  0.021616  0.005235 -0.001976  0.591600   \n",
       "\n",
       "               Squared error  error sign  \n",
       "0                   0.010576    0.009461  \n",
       "1                   0.020272   -0.009973  \n",
       "2                   0.001658    0.021616  \n",
       "3                   0.062286    0.005235  \n",
       "4                   0.011613   -0.001976  \n",
       "Y                  -0.064868    0.591600  \n",
       "Squared error       1.000000   -0.015840  \n",
       "error sign         -0.015840    1.000000  "
      ]
     },
     "execution_count": 30,
     "metadata": {},
     "output_type": "execute_result"
    }
   ],
   "source": [
    "pd.concat([df_train,Er_sq,np.sign(Y_train-Y_model.predict(X_train)).rename('error sign',inplace=True)],axis=1).corr()"
   ]
  },
  {
   "cell_type": "markdown",
   "metadata": {},
   "source": [
    "We see that the error sign doesn't correlate that well with any of the features. In practice it is probably something worth exploring more, since some correlations are non-zero, notably correlation with X_3 is about -.15.but  In this case I am not going to explore it further"
   ]
  },
  {
   "cell_type": "code",
   "execution_count": 31,
   "metadata": {},
   "outputs": [],
   "source": [
    "pipe_sq=Pipeline([\n",
    "    ('scaler', StandardScaler()),\n",
    "    ('poly', PolynomialFeatures(degree=2)),\n",
    "    ('model', LinearRegression())\n",
    "])"
   ]
  },
  {
   "cell_type": "code",
   "execution_count": 32,
   "metadata": {},
   "outputs": [],
   "source": [
    "Er_sq_model=pipe_sq.fit(X_train,Er_sq)"
   ]
  },
  {
   "cell_type": "code",
   "execution_count": 33,
   "metadata": {},
   "outputs": [
    {
     "data": {
      "text/plain": [
       "0.2369024004134863"
      ]
     },
     "execution_count": 33,
     "metadata": {},
     "output_type": "execute_result"
    }
   ],
   "source": [
    "Er_sq_model.score(X_train,Er_sq)"
   ]
  },
  {
   "cell_type": "markdown",
   "metadata": {},
   "source": [
    "We see that adding other variables besides X_3 didn't improve the model predictivness by much, while probably introducing unnecesary variance. For this reason I will use the model that only uses X_3. In practice it would be a good idea to run cross-validation and pick a best subset. "
   ]
  },
  {
   "cell_type": "code",
   "execution_count": 34,
   "metadata": {},
   "outputs": [
    {
     "data": {
      "text/plain": [
       "array([   0.        ,   99.1776035 ,    0.        , ..., 4664.94754832,\n",
       "       3514.4336065 ,  961.61875109])"
      ]
     },
     "execution_count": 34,
     "metadata": {},
     "output_type": "execute_result"
    }
   ],
   "source": [
    "Er_sq_predict=Er_square_model_3.predict(X_train_3.values.reshape(-1, 1))\n",
    "Er_sq_predict[Er_sq_predict<0]=0\n",
    "Er_sq_predict"
   ]
  },
  {
   "cell_type": "code",
   "execution_count": 35,
   "metadata": {},
   "outputs": [
    {
     "data": {
      "text/plain": [
       "1.0"
      ]
     },
     "execution_count": 35,
     "metadata": {},
     "output_type": "execute_result"
    }
   ],
   "source": [
    "weight=1/(abs(np.array(Er_sq_predict))+1)\n",
    "(abs(np.array(Er_sq_predict))+1).min()"
   ]
  },
  {
   "cell_type": "markdown",
   "metadata": {},
   "source": [
    "this weight increases when the absolute value of expected error increases, while not being unboun"
   ]
  },
  {
   "cell_type": "code",
   "execution_count": 36,
   "metadata": {},
   "outputs": [
    {
     "data": {
      "text/plain": [
       "<matplotlib.collections.PathCollection at 0x1e6ae6f2970>"
      ]
     },
     "execution_count": 36,
     "metadata": {},
     "output_type": "execute_result"
    },
    {
     "data": {
      "image/png": "[encoded data removed]",
      "text/plain": [
       "<Figure size 432x288 with 1 Axes>"
      ]
     },
     "metadata": {
      "needs_background": "light"
     },
     "output_type": "display_data"
    }
   ],
   "source": [
    "plt.scatter(weight,X_train_3,s=1)"
   ]
  },
  {
   "cell_type": "code",
   "execution_count": 37,
   "metadata": {},
   "outputs": [
    {
     "data": {
      "text/plain": [
       "array([ 1.34755715,  1.17419284, -0.28082503, -1.80601798, -0.21673697])"
      ]
     },
     "execution_count": 37,
     "metadata": {},
     "output_type": "execute_result"
    }
   ],
   "source": [
    "weighted_linear_regression=LinearRegression().fit(X_train,Y_train,weight)\n",
    "weighted_linear_regression.coef_"
   ]
  },
  {
   "cell_type": "code",
   "execution_count": 38,
   "metadata": {},
   "outputs": [
    {
     "data": {
      "text/plain": [
       "0.03403611870502843"
      ]
     },
     "execution_count": 38,
     "metadata": {},
     "output_type": "execute_result"
    }
   ],
   "source": [
    "weighted_linear_regression.score(X_train,Y_train)"
   ]
  },
  {
   "cell_type": "markdown",
   "metadata": {},
   "source": [
    "We see that the model is still pretty bad (r^2 score of about 0.04)"
   ]
  },
  {
   "cell_type": "code",
   "execution_count": 39,
   "metadata": {},
   "outputs": [
    {
     "data": {
      "text/plain": [
       "0.05517517737212796"
      ]
     },
     "execution_count": 39,
     "metadata": {},
     "output_type": "execute_result"
    }
   ],
   "source": [
    "weighted_linear_regression.score(X_test,Y_test)"
   ]
  },
  {
   "cell_type": "code",
   "execution_count": 40,
   "metadata": {},
   "outputs": [
    {
     "data": {
      "text/plain": [
       "0.05341639451636926"
      ]
     },
     "execution_count": 40,
     "metadata": {},
     "output_type": "execute_result"
    }
   ],
   "source": [
    "Y_model.score(X_test,Y_test)"
   ]
  },
  {
   "cell_type": "markdown",
   "metadata": {},
   "source": [
    "We see that accounting for not spherical error terms didn't help much. One other idea would be to try to study autocorrelation of Y (if it's time series for example), and see if that help. I am not sure I have time to properly go into it, but let me look at least wether autocorrelation is present or not."
   ]
  },
  {
   "cell_type": "code",
   "execution_count": 41,
   "metadata": {},
   "outputs": [
    {
     "data": {
      "image/png": "[encoded data removed]",
      "text/plain": [
       "<Figure size 432x288 with 1 Axes>"
      ]
     },
     "metadata": {
      "needs_background": "light"
     },
     "output_type": "display_data"
    }
   ],
   "source": [
    "acor=plt.acorr(Y_raw['Y'],maxlags=1000)\n"
   ]
  },
  {
   "cell_type": "markdown",
   "metadata": {},
   "source": [
    "Doen't seem like there is a strong autocorreation either."
   ]
  },
  {
   "cell_type": "markdown",
   "metadata": {},
   "source": [
    "Unfortunately I was unable to produce a really predictive model. With all the above models the R^2 score is really low. However, even though it is low, it is consistently positive (around 0.05), and might still be useful in some applications. Even though only OLS is demonstrated, tests on other variants of linear regression produced similar results. Computing coefficients ([ 1.34755715,  1.17419284, -0.28082503, -1.80601798, -0.21673697]) also illustarate that probably there is not much merit in shrinkage methods (since they are already not large in magnitude). Applying some postprocessing of Y's might help too.\n",
    "\n",
    "We also illustrated a pretty good model for estimating squared error using X_3 feature, which might be useful when determining how good a prediction (possibly using a different model) is expected to be. In particular, We see that for small values of X_3, sqaured error is relatively small, so we can expect to find a reasonable approximation for Y-value for such samples. \n",
    "\n",
    "I also had a quick look at autocorrelation of Y, but was unable to establish one. Some more advanced models might prove to be useful, e.g. trying to correlate y_i to a collection of previous y's (instead of just 1), for example to the moving median (or mean)."
   ]
  },
  {
   "cell_type": "code",
   "execution_count": 42,
   "metadata": {},
   "outputs": [
    {
     "data": {
      "text/html": [
       "<div>\n",
       "<style scoped>\n",
       "    .dataframe tbody tr th:only-of-type {\n",
       "        vertical-align: middle;\n",
       "    }\n",
       "\n",
       "    .dataframe tbody tr th {\n",
       "        vertical-align: top;\n",
       "    }\n",
       "\n",
       "    .dataframe thead th {\n",
       "        text-align: right;\n",
       "    }\n",
       "</style>\n",
       "<table border=\"1\" class=\"dataframe\">\n",
       "  <thead>\n",
       "    <tr style=\"text-align: right;\">\n",
       "      <th></th>\n",
       "      <th>0</th>\n",
       "      <th>1</th>\n",
       "      <th>2</th>\n",
       "      <th>3</th>\n",
       "      <th>4</th>\n",
       "      <th>Y</th>\n",
       "    </tr>\n",
       "  </thead>\n",
       "  <tbody>\n",
       "    <tr>\n",
       "      <th>count</th>\n",
       "      <td>9027.000000</td>\n",
       "      <td>9027.000000</td>\n",
       "      <td>9027.000000</td>\n",
       "      <td>9027.000000</td>\n",
       "      <td>9027.000000</td>\n",
       "      <td>9027.000000</td>\n",
       "    </tr>\n",
       "    <tr>\n",
       "      <th>mean</th>\n",
       "      <td>0.021878</td>\n",
       "      <td>0.020939</td>\n",
       "      <td>0.005119</td>\n",
       "      <td>0.072945</td>\n",
       "      <td>1.030056</td>\n",
       "      <td>1.531767</td>\n",
       "    </tr>\n",
       "    <tr>\n",
       "      <th>std</th>\n",
       "      <td>1.964683</td>\n",
       "      <td>5.432109</td>\n",
       "      <td>0.890970</td>\n",
       "      <td>4.775307</td>\n",
       "      <td>2.113387</td>\n",
       "      <td>37.669460</td>\n",
       "    </tr>\n",
       "    <tr>\n",
       "      <th>min</th>\n",
       "      <td>-7.654205</td>\n",
       "      <td>-19.706080</td>\n",
       "      <td>-3.726699</td>\n",
       "      <td>-9.991895</td>\n",
       "      <td>-7.265781</td>\n",
       "      <td>-292.564377</td>\n",
       "    </tr>\n",
       "    <tr>\n",
       "      <th>25%</th>\n",
       "      <td>-1.283909</td>\n",
       "      <td>-3.653853</td>\n",
       "      <td>-0.587873</td>\n",
       "      <td>-3.490176</td>\n",
       "      <td>-0.402079</td>\n",
       "      <td>-15.331738</td>\n",
       "    </tr>\n",
       "    <tr>\n",
       "      <th>50%</th>\n",
       "      <td>0.006382</td>\n",
       "      <td>0.024415</td>\n",
       "      <td>0.008015</td>\n",
       "      <td>0.033522</td>\n",
       "      <td>1.019824</td>\n",
       "      <td>1.948709</td>\n",
       "    </tr>\n",
       "    <tr>\n",
       "      <th>75%</th>\n",
       "      <td>1.340573</td>\n",
       "      <td>3.665558</td>\n",
       "      <td>0.604665</td>\n",
       "      <td>3.598540</td>\n",
       "      <td>2.458829</td>\n",
       "      <td>19.331699</td>\n",
       "    </tr>\n",
       "    <tr>\n",
       "      <th>max</th>\n",
       "      <td>6.766637</td>\n",
       "      <td>19.256933</td>\n",
       "      <td>3.761865</td>\n",
       "      <td>9.993566</td>\n",
       "      <td>9.896021</td>\n",
       "      <td>230.513157</td>\n",
       "    </tr>\n",
       "  </tbody>\n",
       "</table>\n",
       "</div>"
      ],
      "text/plain": [
       "                 0            1            2            3            4  \\\n",
       "count  9027.000000  9027.000000  9027.000000  9027.000000  9027.000000   \n",
       "mean      0.021878     0.020939     0.005119     0.072945     1.030056   \n",
       "std       1.964683     5.432109     0.890970     4.775307     2.113387   \n",
       "min      -7.654205   -19.706080    -3.726699    -9.991895    -7.265781   \n",
       "25%      -1.283909    -3.653853    -0.587873    -3.490176    -0.402079   \n",
       "50%       0.006382     0.024415     0.008015     0.033522     1.019824   \n",
       "75%       1.340573     3.665558     0.604665     3.598540     2.458829   \n",
       "max       6.766637    19.256933     3.761865     9.993566     9.896021   \n",
       "\n",
       "                 Y  \n",
       "count  9027.000000  \n",
       "mean      1.531767  \n",
       "std      37.669460  \n",
       "min    -292.564377  \n",
       "25%     -15.331738  \n",
       "50%       1.948709  \n",
       "75%      19.331699  \n",
       "max     230.513157  "
      ]
     },
     "execution_count": 42,
     "metadata": {},
     "output_type": "execute_result"
    }
   ],
   "source": [
    "df_small=df.loc[(df[\"3\"]<10) & (df[\"3\"]>-10)]\n",
    "df_small.describe()"
   ]
  },
  {
   "cell_type": "code",
   "execution_count": 43,
   "metadata": {},
   "outputs": [],
   "source": [
    "X_s_train, X_s_test, Y_s_train, Y_s_test= train_test_split(df_small.loc[:,[\"0\",\"1\",\"2\",\"3\",\"4\"]],df_small.loc[:,\"Y\"], random_state=4,test_size=0.2)"
   ]
  },
  {
   "cell_type": "code",
   "execution_count": 44,
   "metadata": {},
   "outputs": [],
   "source": [
    "Small_x_model=LinearRegression(normalize=True).fit(X_s_train,Y_s_train)"
   ]
  },
  {
   "cell_type": "code",
   "execution_count": 45,
   "metadata": {},
   "outputs": [
    {
     "data": {
      "text/plain": [
       "0.04744767637639713"
      ]
     },
     "execution_count": 45,
     "metadata": {},
     "output_type": "execute_result"
    }
   ],
   "source": [
    "Small_x_model.score(X_s_train,Y_s_train)"
   ]
  },
  {
   "cell_type": "code",
   "execution_count": 48,
   "metadata": {},
   "outputs": [
    {
     "data": {
      "text/plain": [
       "0.05216672372453923"
      ]
     },
     "execution_count": 48,
     "metadata": {},
     "output_type": "execute_result"
    }
   ],
   "source": [
    "Small_x_model.score(X_s_test,Y_s_test)"
   ]
  },
  {
   "cell_type": "markdown",
   "metadata": {},
   "source": [
    "We see that even limiting ourself to samples with small X_3, there seemingly is no significant improvement in the R^2 score. Again, in practice this is also probably a part that needs to be studied more (since as mentioned above, the variance of Y's is much lower with these restrictions). It is also worth mentioning that this still covers 90% of the data points."
   ]
  }
 ],
 "metadata": {
  "kernelspec": {
   "display_name": "Python 3 (ipykernel)",
   "language": "python",
   "name": "python3"
  },
  "language_info": {
   "codemirror_mode": {
    "name": "ipython",
    "version": 3
   },
   "file_extension": ".py",
   "mimetype": "text/x-python",
   "name": "python",
   "nbconvert_exporter": "python",
   "pygments_lexer": "ipython3",
   "version": "3.9.7"
  }
 },
 "nbformat": 4,
 "nbformat_minor": 4
}
